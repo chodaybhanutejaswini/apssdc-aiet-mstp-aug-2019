{
 "cells": [
  {
   "cell_type": "markdown",
   "metadata": {},
   "source": [
    "# tasks "
   ]
  },
  {
   "cell_type": "markdown",
   "metadata": {},
   "source": [
    "\n",
    "### Question-1: Write a Python Program to largest of three given numbers (using input statement)"
   ]
  },
  {
   "cell_type": "code",
   "execution_count": 1,
   "metadata": {},
   "outputs": [
    {
     "name": "stdout",
     "output_type": "stream",
     "text": [
      "enter a value3\n",
      "enter b value4\n",
      "enter c avlue5\n",
      "c is large\n"
     ]
    }
   ],
   "source": [
    "# solution for question1\n",
    "a= int (input(\"enter a value\"))\n",
    "b=int (input(\"enter b value\"))\n",
    "c= int(input(\"enter c value\"))\n",
    "if(a>b>c):\n",
    "    print(\"a is large\")\n",
    "elif(b>a>c):\n",
    "    print(\"b is large\")\n",
    "else:\n",
    "    print(\"c is large\")"
   ]
  },
  {
   "cell_type": "markdown",
   "metadata": {},
   "source": [
    "### Question -2: Write a python program to find the given number(N) in given range(lower bound-upper bound)\n"
   ]
  },
  {
   "cell_type": "code",
   "execution_count": 3,
   "metadata": {},
   "outputs": [
    {
     "name": "stdout",
     "output_type": "stream",
     "text": [
      "enter lower bound 4\n",
      "enter upper bound6\n",
      "enter a value to check the boundary8\n",
      "not existed\n"
     ]
    }
   ],
   "source": [
    "# solution for question2\n",
    "l= int(input(\"enter lower bound \"))\n",
    "u= int (input(\"enter upper bound\"))\n",
    "choose=int(input(\"enter a value to check the boundary\"))\n",
    "if(choose>=l and choose<=u):\n",
    "      print(\"existed\")\n",
    "else:\n",
    "    print(\"not existed\")"
   ]
  },
  {
   "cell_type": "code",
   "execution_count": null,
   "metadata": {},
   "outputs": [],
   "source": []
  }
 ],
 "metadata": {
  "kernelspec": {
   "display_name": "Python 3",
   "language": "python",
   "name": "python3"
  },
  "language_info": {
   "codemirror_mode": {
    "name": "ipython",
    "version": 3
   },
   "file_extension": ".py",
   "mimetype": "text/x-python",
   "name": "python",
   "nbconvert_exporter": "python",
   "pygments_lexer": "ipython3",
   "version": "3.7.3"
  }
 },
 "nbformat": 4,
 "nbformat_minor": 2
}
