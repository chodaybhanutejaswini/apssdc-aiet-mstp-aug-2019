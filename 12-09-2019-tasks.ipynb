{
 "cells": [
  {
   "cell_type": "markdown",
   "metadata": {},
   "source": [
    "# Question 1:\n",
    "## Mobile Number Validation:\n",
    "### You have been given mobile numbers separated by “,” you need to valid those mobile numbers\n",
    " ### If valid print True otherwise False\n",
    "## Rules:\n",
    "### Mobile number should have 10 digits\n",
    "### Mobile number should not contain any characters\n",
    "### Mobile number should start with (9,8,7,6) series only\n"
   ]
  },
  {
   "cell_type": "code",
   "execution_count": null,
   "metadata": {},
   "outputs": [],
   "source": [
    "# solution\n",
    "import re\n",
    "def nums(r):\n",
    "    if re.search('^[6-9]\\d{9}$',r):\n",
    "        print('True')\n",
    "    else:\n",
    "        print('False')\n",
    "def n():\n",
    "    r_list=input().split(',')\n",
    "    for number in r_list:\n",
    "        nums(number)\n",
    "n()"
   ]
  },
  {
   "cell_type": "markdown",
   "metadata": {},
   "source": [
    "# Question 2:\n",
    "### Goki wants to have some more friends in his life. Goki has N people who he can be friends with, so he decides to choose among them according to their skills set Yi(1<=i<=n). He wants atleast X skills in his friends.\n"
   ]
  },
  {
   "cell_type": "code",
   "execution_count": 8,
   "metadata": {},
   "outputs": [
    {
     "name": "stdout",
     "output_type": "stream",
     "text": [
      "5\n",
      "100\n",
      "101\n",
      "109\n",
      "109\n",
      "98\n",
      "98\n",
      "Yes\n",
      "Yes\n",
      "Yes\n",
      "No\n",
      "No\n"
     ]
    }
   ],
   "source": [
    "# solution \n",
    "def r():\n",
    "    x=int(input())\n",
    "    y=int(input())\n",
    "    a=[]\n",
    "    for i in range(x):\n",
    "        y=int(input())\n",
    "        a.append(y)\n",
    "    for j in a:\n",
    "        if j>=100:\n",
    "            print(\"Yes\")\n",
    "        else:\n",
    "            print(\"No\")\n",
    "r()"
   ]
  },
  {
   "cell_type": "code",
   "execution_count": null,
   "metadata": {},
   "outputs": [],
   "source": []
  }
 ],
 "metadata": {
  "kernelspec": {
   "display_name": "Python 3",
   "language": "python",
   "name": "python3"
  },
  "language_info": {
   "codemirror_mode": {
    "name": "ipython",
    "version": 3
   },
   "file_extension": ".py",
   "mimetype": "text/x-python",
   "name": "python",
   "nbconvert_exporter": "python",
   "pygments_lexer": "ipython3",
   "version": "3.7.3"
  }
 },
 "nbformat": 4,
 "nbformat_minor": 2
}
