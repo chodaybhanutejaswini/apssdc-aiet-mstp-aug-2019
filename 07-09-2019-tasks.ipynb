{
 "cells": [
  {
   "cell_type": "markdown",
   "metadata": {},
   "source": [
    "# tasks"
   ]
  },
  {
   "cell_type": "markdown",
   "metadata": {},
   "source": [
    "#### Question-1: Write a Python Program to print the sum of digits in a given string(using input statement)"
   ]
  },
  {
   "cell_type": "code",
   "execution_count": 1,
   "metadata": {},
   "outputs": [
    {
     "name": "stdout",
     "output_type": "stream",
     "text": [
      "enter rollno16811a0203\n"
     ]
    },
    {
     "data": {
      "text/plain": [
       "22"
      ]
     },
     "execution_count": 1,
     "metadata": {},
     "output_type": "execute_result"
    }
   ],
   "source": [
    "# solution \n",
    "rollno = input(\"enter rollno\")\n",
    "s=0\n",
    "for i in range(len(rollno)):\n",
    "    if rollno[i].isdigit():\n",
    "        s+=int(rollno[i])\n",
    "s"
   ]
  },
  {
   "cell_type": "markdown",
   "metadata": {},
   "source": [
    "#### Question -2: Write a python program to find the weight of given string (character a weight is 1 and b is 2 and z is 26 like that)"
   ]
  },
  {
   "cell_type": "code",
   "execution_count": 2,
   "metadata": {},
   "outputs": [
    {
     "name": "stdout",
     "output_type": "stream",
     "text": [
      "enter a string acb\n",
      "6\n"
     ]
    }
   ],
   "source": [
    "# solution \n",
    "s = input(\"enter a string \")\n",
    "add=0\n",
    "for char in s:\n",
    "    add= add+(ord(char)-96)\n",
    "print(add)\n",
    "    "
   ]
  },
  {
   "cell_type": "code",
   "execution_count": null,
   "metadata": {},
   "outputs": [],
   "source": []
  }
 ],
 "metadata": {
  "kernelspec": {
   "display_name": "Python 3",
   "language": "python",
   "name": "python3"
  },
  "language_info": {
   "codemirror_mode": {
    "name": "ipython",
    "version": 3
   },
   "file_extension": ".py",
   "mimetype": "text/x-python",
   "name": "python",
   "nbconvert_exporter": "python",
   "pygments_lexer": "ipython3",
   "version": "3.7.3"
  }
 },
 "nbformat": 4,
 "nbformat_minor": 2
}
