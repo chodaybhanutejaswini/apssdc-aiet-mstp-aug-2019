{
 "cells": [
  {
   "cell_type": "markdown",
   "metadata": {},
   "source": [
    "## Question -1:\n",
    " ### Maximum length: Print the words which length has maximum if multiple names has max length print that names in same line.\n"
   ]
  },
  {
   "cell_type": "code",
   "execution_count": null,
   "metadata": {},
   "outputs": [],
   "source": [
    "# solution \n",
    "names = input(\"enter a string\")\n",
    "names_list = names.split(\" \")\n",
    "lengths=[]\n",
    "for name in names_list:\n",
    "        lengths.append(len(name))\n",
    "        n = max(lengths)\n",
    "        if(n==len(name)):\n",
    "            a=name\n",
    "print(a)"
   ]
  },
  {
   "cell_type": "markdown",
   "metadata": {},
   "source": [
    "## Question -2:\n",
    "### Palindrome: Need to find and print whether this string is a palindrome or not. If yes, print \"YES\" else print \"NO\".\n"
   ]
  },
  {
   "cell_type": "code",
   "execution_count": null,
   "metadata": {},
   "outputs": [],
   "source": [
    "# solution \n",
    "a = input(\"enter a string\")\n",
    "b = a[::-1]\n",
    "if(a==b):\n",
    "    print(\"YES\")\n",
    "else:\n",
    "    print(\"NO\")"
   ]
  },
  {
   "cell_type": "markdown",
   "metadata": {},
   "source": [
    "## Question -3:\n",
    "### Toggle String: You have been given a String S consisting of uppercase and lowercase English alphabets. You need to change the case of each alphabet in this String.\n"
   ]
  },
  {
   "cell_type": "code",
   "execution_count": 3,
   "metadata": {},
   "outputs": [
    {
     "name": "stdout",
     "output_type": "stream",
     "text": [
      "enter a namebHaNu\n",
      "BhAnU\n"
     ]
    }
   ],
   "source": [
    "# solution \n",
    "k = input(\"enter a name\")\n",
    "print(k.swapcase())"
   ]
  },
  {
   "cell_type": "code",
   "execution_count": null,
   "metadata": {},
   "outputs": [],
   "source": [
    "\n"
   ]
  }
 ],
 "metadata": {
  "kernelspec": {
   "display_name": "Python 3",
   "language": "python",
   "name": "python3"
  },
  "language_info": {
   "codemirror_mode": {
    "name": "ipython",
    "version": 3
   },
   "file_extension": ".py",
   "mimetype": "text/x-python",
   "name": "python",
   "nbconvert_exporter": "python",
   "pygments_lexer": "ipython3",
   "version": "3.7.3"
  }
 },
 "nbformat": 4,
 "nbformat_minor": 2
}
