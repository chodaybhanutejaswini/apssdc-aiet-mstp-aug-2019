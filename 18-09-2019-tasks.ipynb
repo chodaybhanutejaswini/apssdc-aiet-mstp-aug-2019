{
 "cells": [
  {
   "cell_type": "markdown",
   "metadata": {},
   "source": [
    "# 16811A0203"
   ]
  },
  {
   "cell_type": "markdown",
   "metadata": {},
   "source": [
    "## Question -1:\n",
    " ### write a program to print the digits in given string using map or filter\n",
    "### Input Format:\n",
    "### 1b3a85a05H4\n",
    "### Output Format:\n",
    "### 1385054\n",
    "\n"
   ]
  },
  {
   "cell_type": "code",
   "execution_count": 4,
   "metadata": {},
   "outputs": [
    {
     "name": "stdout",
     "output_type": "stream",
     "text": [
      "675t7ytg67\n",
      "6 7 5 7 6 7 "
     ]
    }
   ],
   "source": [
    "# solution\n",
    "string = input()\n",
    "def isdigit(c):\n",
    "    if c.isdigit():\n",
    "        return True\n",
    "    return False\n",
    "b = list(filter(isdigit,string))\n",
    "for i in b:\n",
    "    if i.isdigit():\n",
    "        print(i,end = \" \")"
   ]
  },
  {
   "cell_type": "markdown",
   "metadata": {},
   "source": [
    "## Question -2:\n",
    "### write a program to print the N cubes sum from 1 to N if n=3(1**3+2**3+3**3)\n",
    "### Input Format:\n",
    "### 3\n",
    "### Output Format:\n",
    "### 36"
   ]
  },
  {
   "cell_type": "code",
   "execution_count": 13,
   "metadata": {},
   "outputs": [
    {
     "name": "stdout",
     "output_type": "stream",
     "text": [
      "5\n",
      "225\n"
     ]
    }
   ],
   "source": [
    "# solution\n",
    "n = int(input())\n",
    "def cubeofnum(n):\n",
    "    return n ** 3\n",
    "result = sum(map(cubeofnum,range(1,n+1)))\n",
    "print(result)"
   ]
  },
  {
   "cell_type": "code",
   "execution_count": null,
   "metadata": {},
   "outputs": [],
   "source": []
  },
  {
   "cell_type": "code",
   "execution_count": null,
   "metadata": {},
   "outputs": [],
   "source": []
  }
 ],
 "metadata": {
  "kernelspec": {
   "display_name": "Python 3",
   "language": "python",
   "name": "python3"
  },
  "language_info": {
   "codemirror_mode": {
    "name": "ipython",
    "version": 3
   },
   "file_extension": ".py",
   "mimetype": "text/x-python",
   "name": "python",
   "nbconvert_exporter": "python",
   "pygments_lexer": "ipython3",
   "version": "3.7.3"
  }
 },
 "nbformat": 4,
 "nbformat_minor": 2
}
